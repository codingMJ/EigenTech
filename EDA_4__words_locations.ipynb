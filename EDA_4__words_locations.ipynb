{
 "cells": [
  {
   "cell_type": "markdown",
   "id": "magnetic-millennium",
   "metadata": {},
   "source": [
    "### Description:\n",
    "In this notebook, my goal is to index source files and source sentence for each word. <br>\n",
    "\n",
    "In **Stage 1: Import data**:<br>\n",
    "I just import processed data I did in notebook **EDA_1_...** which has 4 columns: **FileName**, **Sentence**, \n",
    "**Clean sentence**, **Lemmatized**.<br>\n",
    "\n",
    "In **Stage 2: Indexing**:<br>\n",
    "I get count of unique tokens all of six files as in previous notebook **EDA_3_...**, <br>\n",
    "but this time I also index/store source files names and source sentences (i.e sentences where the word was is found).<br>\n",
    "Final results are in **findings_df** dataframe whic has 3 columns: **Token_and_count**, **FileNames**, **Sentences**.<br>\n",
    " <br>\n",
    "Column **Token_and_count** has unique word and it's count <br>\n",
    "Column **FileNames** has file names the word is found <br>\n",
    "Column **Sentences** has sentences the word is found <br>"
   ]
  },
  {
   "cell_type": "code",
   "execution_count": 2,
   "id": "casual-split",
   "metadata": {},
   "outputs": [],
   "source": [
    "import pandas as pd\n",
    "from collections import Counter\n",
    "import matplotlib.pyplot as plt\n",
    "from gensim.parsing.preprocessing import STOPWORDS\n",
    "from wordcloud import WordCloud, ImageColorGenerator  #STOPWORDS"
   ]
  },
  {
   "cell_type": "markdown",
   "id": "precious-mount",
   "metadata": {},
   "source": [
    "### Stage 1: Import processed data"
   ]
  },
  {
   "cell_type": "code",
   "execution_count": 3,
   "id": "trained-tennessee",
   "metadata": {},
   "outputs": [
    {
     "name": "stdout",
     "output_type": "stream",
     "text": [
      "DF shape: (935, 4)\n"
     ]
    },
    {
     "data": {
      "text/html": [
       "<div>\n",
       "<style scoped>\n",
       "    .dataframe tbody tr th:only-of-type {\n",
       "        vertical-align: middle;\n",
       "    }\n",
       "\n",
       "    .dataframe tbody tr th {\n",
       "        vertical-align: top;\n",
       "    }\n",
       "\n",
       "    .dataframe thead th {\n",
       "        text-align: right;\n",
       "    }\n",
       "</style>\n",
       "<table border=\"1\" class=\"dataframe\">\n",
       "  <thead>\n",
       "    <tr style=\"text-align: right;\">\n",
       "      <th></th>\n",
       "      <th>FileName</th>\n",
       "      <th>Sentence</th>\n",
       "      <th>Clean sentence</th>\n",
       "      <th>Lemmatized</th>\n",
       "    </tr>\n",
       "  </thead>\n",
       "  <tbody>\n",
       "    <tr>\n",
       "      <th>0</th>\n",
       "      <td>doc1.txt</td>\n",
       "      <td>Let me begin by saying thanks to all you who'v...</td>\n",
       "      <td>let me begin thanks traveled far wide brave co...</td>\n",
       "      <td>let i begin thank travel far wide brave cold t...</td>\n",
       "    </tr>\n",
       "    <tr>\n",
       "      <th>1</th>\n",
       "      <td>doc1.txt</td>\n",
       "      <td>We all made this journey for a reason.</td>\n",
       "      <td>journey reason</td>\n",
       "      <td>journey reason</td>\n",
       "    </tr>\n",
       "    <tr>\n",
       "      <th>2</th>\n",
       "      <td>doc1.txt</td>\n",
       "      <td>It's humbling, but in my heart I know you didn...</td>\n",
       "      <td>humbling heart i know come me came believe cou...</td>\n",
       "      <td>humble heart i know come i come believe country</td>\n",
       "    </tr>\n",
       "    <tr>\n",
       "      <th>3</th>\n",
       "      <td>doc1.txt</td>\n",
       "      <td>In the face of war, you believe there can be p...</td>\n",
       "      <td>face war believe peace</td>\n",
       "      <td>face war believe peace</td>\n",
       "    </tr>\n",
       "    <tr>\n",
       "      <th>4</th>\n",
       "      <td>doc1.txt</td>\n",
       "      <td>In the face of despair, you believe there can ...</td>\n",
       "      <td>face despair believe hope</td>\n",
       "      <td>face despair believe hope</td>\n",
       "    </tr>\n",
       "  </tbody>\n",
       "</table>\n",
       "</div>"
      ],
      "text/plain": [
       "   FileName                                           Sentence  \\\n",
       "0  doc1.txt  Let me begin by saying thanks to all you who'v...   \n",
       "1  doc1.txt             We all made this journey for a reason.   \n",
       "2  doc1.txt  It's humbling, but in my heart I know you didn...   \n",
       "3  doc1.txt  In the face of war, you believe there can be p...   \n",
       "4  doc1.txt  In the face of despair, you believe there can ...   \n",
       "\n",
       "                                      Clean sentence  \\\n",
       "0  let me begin thanks traveled far wide brave co...   \n",
       "1                                     journey reason   \n",
       "2  humbling heart i know come me came believe cou...   \n",
       "3                             face war believe peace   \n",
       "4                          face despair believe hope   \n",
       "\n",
       "                                          Lemmatized  \n",
       "0  let i begin thank travel far wide brave cold t...  \n",
       "1                                     journey reason  \n",
       "2    humble heart i know come i come believe country  \n",
       "3                             face war believe peace  \n",
       "4                          face despair believe hope  "
      ]
     },
     "execution_count": 3,
     "metadata": {},
     "output_type": "execute_result"
    }
   ],
   "source": [
    "# 1\n",
    "# Import data\n",
    "df = pd.read_csv(\"Processed_data.csv\")\n",
    "\n",
    "# 2\n",
    "# Remove rows containing NaN\n",
    "df = df[df['Clean sentence'].notnull()]\n",
    "\n",
    "# 3\n",
    "# Check data\n",
    "print(\"DF shape:\", df.shape)\n",
    "df.head()"
   ]
  },
  {
   "cell_type": "markdown",
   "id": "bacterial-douglas",
   "metadata": {},
   "source": [
    "### Stage 2: Indexing"
   ]
  },
  {
   "cell_type": "markdown",
   "id": "provincial-submission",
   "metadata": {},
   "source": [
    "### Get tokens ferquencies across all files"
   ]
  },
  {
   "cell_type": "code",
   "execution_count": 4,
   "id": "baking-service",
   "metadata": {},
   "outputs": [],
   "source": [
    "proc_tokens = []\n",
    "for s in df[\"Clean sentence\"].tolist():\n",
    "    proc_tokens.extend(s.split())"
   ]
  },
  {
   "cell_type": "code",
   "execution_count": 5,
   "id": "virtual-collectible",
   "metadata": {},
   "outputs": [],
   "source": [
    "# 5\n",
    "# Sort token counts in desc order\n",
    "term2freq = Counter(proc_tokens).most_common()"
   ]
  },
  {
   "cell_type": "markdown",
   "id": "systematic-norfolk",
   "metadata": {},
   "source": [
    "### Token and it's source files and sentences"
   ]
  },
  {
   "cell_type": "code",
   "execution_count": 6,
   "id": "controlled-experience",
   "metadata": {},
   "outputs": [],
   "source": [
    "# Create empty dataframe\n",
    "columns = ['Token_and_count', 'FileNames', 'Sentences']\n",
    "findings_df = pd.DataFrame(columns=columns)\n",
    "\n",
    "for t,c in term2freq[:10]:\n",
    "# for t,c in [(\"people\", 1)]:\n",
    "    df = df[df[\"Clean sentence\"].str.contains(t)]\n",
    "    \n",
    "    findings_df = findings_df.append({'Token_and_count': \" \".join([t,str(c)]), \\\n",
    "                                      'FileNames': df.FileName.tolist(), \\\n",
    "                                      'Sentences': df.Sentence.tolist()}, ignore_index=True)"
   ]
  },
  {
   "cell_type": "code",
   "execution_count": 7,
   "id": "infrared-orlando",
   "metadata": {},
   "outputs": [
    {
     "data": {
      "text/html": [
       "<div>\n",
       "<style scoped>\n",
       "    .dataframe tbody tr th:only-of-type {\n",
       "        vertical-align: middle;\n",
       "    }\n",
       "\n",
       "    .dataframe tbody tr th {\n",
       "        vertical-align: top;\n",
       "    }\n",
       "\n",
       "    .dataframe thead th {\n",
       "        text-align: right;\n",
       "    }\n",
       "</style>\n",
       "<table border=\"1\" class=\"dataframe\">\n",
       "  <thead>\n",
       "    <tr style=\"text-align: right;\">\n",
       "      <th></th>\n",
       "      <th>Token_and_count</th>\n",
       "      <th>FileNames</th>\n",
       "      <th>Sentences</th>\n",
       "    </tr>\n",
       "  </thead>\n",
       "  <tbody>\n",
       "    <tr>\n",
       "      <th>0</th>\n",
       "      <td>i 247</td>\n",
       "      <td>[doc1.txt, doc1.txt, doc1.txt, doc1.txt, doc1....</td>\n",
       "      <td>[Let me begin by saying thanks to all you who'...</td>\n",
       "    </tr>\n",
       "    <tr>\n",
       "      <th>1</th>\n",
       "      <td>people 68</td>\n",
       "      <td>[doc1.txt, doc1.txt, doc1.txt, doc1.txt, doc1....</td>\n",
       "      <td>[In the face of a politics that's shut you out...</td>\n",
       "    </tr>\n",
       "    <tr>\n",
       "      <th>2</th>\n",
       "      <td>iraq 64</td>\n",
       "      <td>[doc5.txt, doc5.txt, doc5.txt]</td>\n",
       "      <td>[A few Tuesdays ago, the American people embra...</td>\n",
       "    </tr>\n",
       "    <tr>\n",
       "      <th>3</th>\n",
       "      <td>country 60</td>\n",
       "      <td>[doc5.txt]</td>\n",
       "      <td>[Today, the Iraqi landscape is littered with i...</td>\n",
       "    </tr>\n",
       "    <tr>\n",
       "      <th>4</th>\n",
       "      <td>time 60</td>\n",
       "      <td>[]</td>\n",
       "      <td>[]</td>\n",
       "    </tr>\n",
       "  </tbody>\n",
       "</table>\n",
       "</div>"
      ],
      "text/plain": [
       "  Token_and_count                                          FileNames  \\\n",
       "0           i 247  [doc1.txt, doc1.txt, doc1.txt, doc1.txt, doc1....   \n",
       "1       people 68  [doc1.txt, doc1.txt, doc1.txt, doc1.txt, doc1....   \n",
       "2         iraq 64                     [doc5.txt, doc5.txt, doc5.txt]   \n",
       "3      country 60                                         [doc5.txt]   \n",
       "4         time 60                                                 []   \n",
       "\n",
       "                                           Sentences  \n",
       "0  [Let me begin by saying thanks to all you who'...  \n",
       "1  [In the face of a politics that's shut you out...  \n",
       "2  [A few Tuesdays ago, the American people embra...  \n",
       "3  [Today, the Iraqi landscape is littered with i...  \n",
       "4                                                 []  "
      ]
     },
     "execution_count": 7,
     "metadata": {},
     "output_type": "execute_result"
    }
   ],
   "source": [
    "findings_df.head()"
   ]
  },
  {
   "cell_type": "code",
   "execution_count": 8,
   "id": "southern-marijuana",
   "metadata": {},
   "outputs": [
    {
     "name": "stdout",
     "output_type": "stream",
     "text": [
      "people 68\n",
      "['doc1.txt', 'doc1.txt', 'doc1.txt', 'doc1.txt', 'doc1.txt', 'doc1.txt', 'doc1.txt', 'doc1.txt', 'doc1.txt', 'doc1.txt', 'doc1.txt', 'doc1.txt', 'doc1.txt', 'doc2.txt', 'doc2.txt', 'doc2.txt', 'doc2.txt', 'doc2.txt', 'doc2.txt', 'doc2.txt', 'doc2.txt', 'doc2.txt', 'doc2.txt', 'doc3.txt', 'doc3.txt', 'doc3.txt', 'doc3.txt', 'doc3.txt', 'doc3.txt', 'doc3.txt', 'doc3.txt', 'doc3.txt', 'doc3.txt', 'doc3.txt', 'doc4.txt', 'doc4.txt', 'doc4.txt', 'doc4.txt', 'doc4.txt', 'doc4.txt', 'doc4.txt', 'doc4.txt', 'doc4.txt', 'doc4.txt', 'doc4.txt', 'doc4.txt', 'doc4.txt', 'doc4.txt', 'doc4.txt', 'doc4.txt', 'doc4.txt', 'doc4.txt', 'doc4.txt', 'doc4.txt', 'doc5.txt', 'doc5.txt', 'doc5.txt', 'doc5.txt', 'doc5.txt', 'doc5.txt', 'doc5.txt', 'doc5.txt', 'doc5.txt', 'doc6.txt', 'doc6.txt']\n",
      "[\"In the face of a politics that's shut you out, that's told you to settle, that's divided us for too long, you believe we can be one people, reaching for what's possible, building that more perfect union.\", 'I joined with pastors and lay-people to deal with communities that had been ravaged by plant closings.', \"I saw that the problems people faced weren't simply local in nature - that the decision to close a steel mill was made by distant executives; that the lack of textbooks and computers in schools could be traced to the skewed priorities of politicians a thousand miles away; and that when a child turns to violence, there's a hole in his heart no government could ever fill.\", \"It was here we learned to disagree without being disagreeable - that it's possible to compromise so long as you know those principles that can never be compromised; and that so long as we're willing to listen to each other, we can assume the best in people instead of the worst.\", 'It was here, in Springfield, where North, South, East and West come together that I was reminded of the essential decency of the American people - where I came to believe that through this decency, we can build a more hopeful America.', 'In the face of Depression, we put people back to work and lifted millions out of poverty.', 'For that is our unyielding faith - that in the face of impossible odds, people who love their country can change it.', 'But through his will and his words, he moved a nation and helped free a people.', 'It is because men and women of every race, from every walk of life, continued to march for freedom long after Lincoln was laid to rest, that today we have the chance to face the challenges of this millennium together, as one people - as Americans.', \"We're distracted from our real failures, and told to blame the other party, or gay people, or immigrants.\", \"And as people have looked away in disillusionment and frustration, we know what's filled the void.\", 'But too many times, after the election is over, and the confetti is swept away, all those promises fade from memory, and the lobbyists and the special interests move in, and people turn away, disappointed as before, left to struggle on their own.', 'That beneath all the differences of race and region, faith and station, we are one people.', 'Tonight, I say to the American people, to Democrats and Republicans and Independents across this great land - enough!', 'Tell that to the proud auto workers at a Michigan plant who, after they found out it was closing, kept showing up every day and working as hard as ever, because they knew there were people who counted on the brakes that they made.', \"How else could he offer a health care plan that would actually tax people's benefits, or an education plan that would do nothing to help families pay for college, or a plan that would privatize Social Security and gamble your retirement?\", 'We measure progress by how many people can find a job that pays the mortgage; whether you can put a little extra money away at the end of each month so you can someday watch your child receive her college diploma.', \"I'll make it easier for the American people to afford these new cars.\", \"Because one of the things that we have to change in our politics is the idea that people cannot disagree without challenging each other's character and patriotism.\", \"If you don't have a record to run on, then you paint your opponent as someone people should run from.\", 'Change happens because the American people demand it - because they rise up and insist on new ideas and new leadership, a new politics for a new time.', 'In the young people who voted for the first time, and in those who got involved again after a very long time.', 'But what the people heard instead - people of every creed and color, from every walk of life - is that in America, our destiny is inextricably linked.', \"It's a time where you can go to any town hall or street corner or coffee shop and hear people express the same anxiety about the future; hear them convey the same uncertainty about the direction we're headed as a country.\", \"Whether it's the war or Katrina or their health care or their jobs, you hear people say that we've finally arrived at a moment where something must change.\", 'And the second thing people would ask me was, \"You seem like a nice young man.', 'And I understood the question because it revealed the cynicism people feel about public life today.', 'And she saw young people of every race and every creed take a bus down to Mississippi and Alabama to register voters because they believed.', 'And she saw people lining up to vote for the first time - and she got in that line - and she never forgot it.', \"Because we've always fought to bring all of our people under the blanket of the American Dream.\", 'The sweeping changes brought by revolutions in technology have torn down walls between business and government and people and places all over the globe.', \"Our faith has been shaken, but the people running Washington aren't willing to make us believe again.\", \"I don't think this administration is full of stupid people - I think there are a lot of smart folks in there.\", 'And when we do go to war, let us always be honest with the American people about why we are there and how we will win.', 'To begin with, I discovered the warmth and sense of community that the people of Kenya possess - their sense of hopefulness even in the face of great difficulty.', 'The history of Africa is a history of ancient kingdoms and great traditions; the story of people fighting to be free from colonial rule; the heroism of not only of great men like Nkrumah and Kenyatta and Mandela, but also ordinary people who endured great hardship, from Ghana to South Africa, to secure self-determination in the face of great odds.', 'It suffers from the legacy of colonialism, of national boundaries that were drawn without regard to the political and tribal alignments of indigenous peoples, and that therefore fed conflict and tribal strife.', 'A foreign policy that gives hope and opportunity to the people of this great continent.', 'One that serves its people and is free from corruption.', \"But while corruption is a problem we all share, here in Kenya it is a crisis - a crisis that's robbing an honest people of the opportunities they have fought for - the opportunity they deserve.\", 'And I know that the vast majority of people in this country desperately want to change this.', \"Some of the worst actors on the international stage can also take advantage of the collective exhaustion and outrage that people feel with official corruption, as we've seen with Islamic extremists who promise purification, but deliver totalitarianism.\", 'In the end, if the people cannot trust their government to do the job for which it exists - to protect them and to promote their common welfare - all else is lost.', 'The Kenyan media has been courageous in uncovering and reporting on some of the most blatant abuses of the system, and there has been a growing recognition among people and politicians that this is a critical issue.', 'In a true democracy, it is what happens between elections that is the true measure of how a government treats its people.', \"Today, we're starting to see that the Kenyan people want more than a simple changing of the guard, more than piecemeal reforms to a crisis that's crippling their country.\", \"The Kenyan people are crying out for real change, and whether one voted orange or banana in last year's referendum, the message that many Kenyans seemed to be sending was one of dissatisfaction with the pace of reform, and real frustration with continued tolerance of corruption at high levels.\", 'And we also know that the more people there are on the government payroll, the more likely it is that someone will be encouraged to take a bribe.', 'Instead of opening businesses and engaging in commerce, people come to rely on patronage and payback as a means of advancing.', 'When people are judged by merit, not connections, then the best and brightest can lead the country, people will work hard, and the entire economy will grow - everyone will benefit and more resources will be available for all, not just select groups.', 'Of course, in the end, one of the strongest weapons your country has against corruption is the ability of you, the people, to stand up and speak out about the injustices you see.', 'The Kenyan people are the ultimate guardians against abuses.', 'Looking out at this crowd of young people, I have faith that you will fight this fight too.', 'I know from these stories that my father was not a perfect man - that he made his share of mistakes and disappointed his share of people in his lifetime.', 'In each case, what has been required to meet the challenges we face has been good judgment and clear vision from our leaders, and a fundamental seriousness and engagement on the part of the American people ?', 'A few Tuesdays ago, the American people embraced this seriousness with regards to America’s policy in Iraq.', 'And now, after three long years of watching the same back and forth in Washington, the American people have sent a clear message that the days of using the war on terror as a political football are over.', 'the American people have determined that all these phrases have become meaningless in the face of a conflict that grows more deadly and chaotic with each passing day ?', 'The American people have been extraordinarily resolved.', 'The President should announce to the Iraqi people that our policy will include a gradual and substantial reduction in U.S. forces.', 'Today, the Iraqi landscape is littered with ill-conceived, half-finished projects that have done almost nothing to help the Iraqi people or stabilize the country.', 'do not just come from deposing a tyrant and handing out ballots; they are only realized once the personal and material security of a people is ensured as well.', 'and that is the loss of our government’s credibility with the American people.', 'Now, few people understand these challenges better than the co-founder of the Cooperative Threat Reduction Program, Dick Lugar, and this is something that became particularly clear to me during one incident on the trip.', 'Outstanding career officials who run the Nunn-Lugar program -- people like Col.']\n"
     ]
    }
   ],
   "source": [
    "w = \"people\"\n",
    "\n",
    "for row in findings_df.iterrows():\n",
    "    if w in row[1][\"Token_and_count\"]:\n",
    "#         pass\n",
    "        print(row[1][\"Token_and_count\"])\n",
    "        print(row[1][\"FileNames\"])\n",
    "        print(row[1][\"Sentences\"])"
   ]
  },
  {
   "cell_type": "code",
   "execution_count": null,
   "id": "first-campbell",
   "metadata": {},
   "outputs": [],
   "source": []
  },
  {
   "cell_type": "code",
   "execution_count": null,
   "id": "victorian-parking",
   "metadata": {},
   "outputs": [],
   "source": []
  },
  {
   "cell_type": "code",
   "execution_count": null,
   "id": "expanded-botswana",
   "metadata": {},
   "outputs": [],
   "source": []
  },
  {
   "cell_type": "code",
   "execution_count": null,
   "id": "rough-threshold",
   "metadata": {},
   "outputs": [],
   "source": []
  }
 ],
 "metadata": {
  "kernelspec": {
   "display_name": "Python 3",
   "language": "python",
   "name": "python3"
  },
  "language_info": {
   "codemirror_mode": {
    "name": "ipython",
    "version": 3
   },
   "file_extension": ".py",
   "mimetype": "text/x-python",
   "name": "python",
   "nbconvert_exporter": "python",
   "pygments_lexer": "ipython3",
   "version": "3.9.1"
  }
 },
 "nbformat": 4,
 "nbformat_minor": 5
}
