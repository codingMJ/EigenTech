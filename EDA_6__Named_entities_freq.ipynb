{
 "cells": [
  {
   "cell_type": "markdown",
   "id": "dedicated-papua",
   "metadata": {},
   "source": [
    "### Description:\n",
    "In this notebook, my goal is to explore count Named entities found in all files. <br>\n",
    "\n",
    "In **Stage 1: Import data**:<br>\n",
    "I just import processed data I did in notebook **EDA_1_...** which has 4 columns: **FileName**, **Sentence**, \n",
    "**Clean sentence**, **Lemmatized**.<br>\n",
    "But this time I drop columns **Clean sentence**, **Lemmatized** as I will use sentences in their original form in column **Sentence**.\n",
    "\n",
    "In **Stage 2: Find Named enetities**:<br>\n",
    "I find named entities for each sentence, extract named entities found from sentence and <br>\n",
    "save extracted entites in new column **Sentence_wo_NEs** and sentence cleaned from entites in new column **Sentence_wo_NEs**.\n",
    "\n",
    "In **Stage 3: Count Named entities**:<br>\n",
    "I observe count of named entities using bar chart."
   ]
  },
  {
   "cell_type": "code",
   "execution_count": 1,
   "id": "casual-split",
   "metadata": {},
   "outputs": [],
   "source": [
    "import pandas as pd\n",
    "import re\n",
    "from collections import Counter, defaultdict\n",
    "from itertools import combinations as combs\n",
    "import matplotlib.pyplot as plt\n",
    "from gensim.parsing.preprocessing import STOPWORDS\n",
    "import spacy"
   ]
  },
  {
   "cell_type": "markdown",
   "id": "precious-mount",
   "metadata": {},
   "source": [
    "### Stage 1: Import data"
   ]
  },
  {
   "cell_type": "code",
   "execution_count": 2,
   "id": "trained-tennessee",
   "metadata": {},
   "outputs": [
    {
     "name": "stdout",
     "output_type": "stream",
     "text": [
      "DF shape: (935, 4)\n"
     ]
    },
    {
     "data": {
      "text/html": [
       "<div>\n",
       "<style scoped>\n",
       "    .dataframe tbody tr th:only-of-type {\n",
       "        vertical-align: middle;\n",
       "    }\n",
       "\n",
       "    .dataframe tbody tr th {\n",
       "        vertical-align: top;\n",
       "    }\n",
       "\n",
       "    .dataframe thead th {\n",
       "        text-align: right;\n",
       "    }\n",
       "</style>\n",
       "<table border=\"1\" class=\"dataframe\">\n",
       "  <thead>\n",
       "    <tr style=\"text-align: right;\">\n",
       "      <th></th>\n",
       "      <th>FileName</th>\n",
       "      <th>Sentence</th>\n",
       "      <th>Clean sentence</th>\n",
       "      <th>Lemmatized</th>\n",
       "    </tr>\n",
       "  </thead>\n",
       "  <tbody>\n",
       "    <tr>\n",
       "      <th>0</th>\n",
       "      <td>doc1.txt</td>\n",
       "      <td>Let me begin by saying thanks to all you who'v...</td>\n",
       "      <td>let me begin thanks traveled far wide brave co...</td>\n",
       "      <td>let i begin thank travel far wide brave cold t...</td>\n",
       "    </tr>\n",
       "    <tr>\n",
       "      <th>1</th>\n",
       "      <td>doc1.txt</td>\n",
       "      <td>We all made this journey for a reason.</td>\n",
       "      <td>journey reason</td>\n",
       "      <td>journey reason</td>\n",
       "    </tr>\n",
       "    <tr>\n",
       "      <th>2</th>\n",
       "      <td>doc1.txt</td>\n",
       "      <td>It's humbling, but in my heart I know you didn...</td>\n",
       "      <td>humbling heart i know come me came believe cou...</td>\n",
       "      <td>humble heart i know come i come believe country</td>\n",
       "    </tr>\n",
       "    <tr>\n",
       "      <th>3</th>\n",
       "      <td>doc1.txt</td>\n",
       "      <td>In the face of war, you believe there can be p...</td>\n",
       "      <td>face war believe peace</td>\n",
       "      <td>face war believe peace</td>\n",
       "    </tr>\n",
       "    <tr>\n",
       "      <th>4</th>\n",
       "      <td>doc1.txt</td>\n",
       "      <td>In the face of despair, you believe there can ...</td>\n",
       "      <td>face despair believe hope</td>\n",
       "      <td>face despair believe hope</td>\n",
       "    </tr>\n",
       "  </tbody>\n",
       "</table>\n",
       "</div>"
      ],
      "text/plain": [
       "   FileName                                           Sentence  \\\n",
       "0  doc1.txt  Let me begin by saying thanks to all you who'v...   \n",
       "1  doc1.txt             We all made this journey for a reason.   \n",
       "2  doc1.txt  It's humbling, but in my heart I know you didn...   \n",
       "3  doc1.txt  In the face of war, you believe there can be p...   \n",
       "4  doc1.txt  In the face of despair, you believe there can ...   \n",
       "\n",
       "                                      Clean sentence  \\\n",
       "0  let me begin thanks traveled far wide brave co...   \n",
       "1                                     journey reason   \n",
       "2  humbling heart i know come me came believe cou...   \n",
       "3                             face war believe peace   \n",
       "4                          face despair believe hope   \n",
       "\n",
       "                                          Lemmatized  \n",
       "0  let i begin thank travel far wide brave cold t...  \n",
       "1                                     journey reason  \n",
       "2    humble heart i know come i come believe country  \n",
       "3                             face war believe peace  \n",
       "4                          face despair believe hope  "
      ]
     },
     "execution_count": 2,
     "metadata": {},
     "output_type": "execute_result"
    }
   ],
   "source": [
    "# 1\n",
    "# Import data\n",
    "df = pd.read_csv(\"Processed_data.csv\")\n",
    "\n",
    "# 2\n",
    "# Remove rows containing NaN\n",
    "df = df[df['Clean sentence'].notnull()]\n",
    "\n",
    "# 3\n",
    "# Check data\n",
    "print(\"DF shape:\", df.shape)\n",
    "df.head()"
   ]
  },
  {
   "cell_type": "code",
   "execution_count": 3,
   "id": "pending-observation",
   "metadata": {},
   "outputs": [
    {
     "data": {
      "text/html": [
       "<div>\n",
       "<style scoped>\n",
       "    .dataframe tbody tr th:only-of-type {\n",
       "        vertical-align: middle;\n",
       "    }\n",
       "\n",
       "    .dataframe tbody tr th {\n",
       "        vertical-align: top;\n",
       "    }\n",
       "\n",
       "    .dataframe thead th {\n",
       "        text-align: right;\n",
       "    }\n",
       "</style>\n",
       "<table border=\"1\" class=\"dataframe\">\n",
       "  <thead>\n",
       "    <tr style=\"text-align: right;\">\n",
       "      <th></th>\n",
       "      <th>FileName</th>\n",
       "      <th>Sentence</th>\n",
       "    </tr>\n",
       "  </thead>\n",
       "  <tbody>\n",
       "    <tr>\n",
       "      <th>0</th>\n",
       "      <td>doc1.txt</td>\n",
       "      <td>Let me begin by saying thanks to all you who'v...</td>\n",
       "    </tr>\n",
       "    <tr>\n",
       "      <th>1</th>\n",
       "      <td>doc1.txt</td>\n",
       "      <td>We all made this journey for a reason.</td>\n",
       "    </tr>\n",
       "    <tr>\n",
       "      <th>2</th>\n",
       "      <td>doc1.txt</td>\n",
       "      <td>It's humbling, but in my heart I know you didn...</td>\n",
       "    </tr>\n",
       "    <tr>\n",
       "      <th>3</th>\n",
       "      <td>doc1.txt</td>\n",
       "      <td>In the face of war, you believe there can be p...</td>\n",
       "    </tr>\n",
       "    <tr>\n",
       "      <th>4</th>\n",
       "      <td>doc1.txt</td>\n",
       "      <td>In the face of despair, you believe there can ...</td>\n",
       "    </tr>\n",
       "  </tbody>\n",
       "</table>\n",
       "</div>"
      ],
      "text/plain": [
       "   FileName                                           Sentence\n",
       "0  doc1.txt  Let me begin by saying thanks to all you who'v...\n",
       "1  doc1.txt             We all made this journey for a reason.\n",
       "2  doc1.txt  It's humbling, but in my heart I know you didn...\n",
       "3  doc1.txt  In the face of war, you believe there can be p...\n",
       "4  doc1.txt  In the face of despair, you believe there can ..."
      ]
     },
     "execution_count": 3,
     "metadata": {},
     "output_type": "execute_result"
    }
   ],
   "source": [
    "# 4\n",
    "# Drop processed columns\n",
    "df.drop(labels=['Clean sentence', 'Lemmatized'], axis=1, inplace=True)\n",
    "df.head()"
   ]
  },
  {
   "cell_type": "markdown",
   "id": "defensive-longer",
   "metadata": {},
   "source": [
    "### Stage 2: Find Named Entities"
   ]
  },
  {
   "cell_type": "code",
   "execution_count": 4,
   "id": "mineral-convert",
   "metadata": {},
   "outputs": [
    {
     "data": {
      "text/plain": [
       "<spacy.pipeline.sentencizer.Sentencizer at 0x123e54040>"
      ]
     },
     "execution_count": 4,
     "metadata": {},
     "output_type": "execute_result"
    }
   ],
   "source": [
    "# Load English model\n",
    "nlp = spacy.load('en_core_web_sm')\n",
    "\n",
    "# Add the component to the pipeline\n",
    "nlp.add_pipe('sentencizer', before=\"parser\")"
   ]
  },
  {
   "cell_type": "code",
   "execution_count": 5,
   "id": "rough-threshold",
   "metadata": {},
   "outputs": [],
   "source": [
    "# function extracts NEs from sentence and returns them as tuple\n",
    "def seperate_NEs_from_sent(s, model):\n",
    "    doc = model(s)\n",
    "\n",
    "    new_s = s\n",
    "    NEs = []\n",
    "    for ent in doc.ents:\n",
    "        NEs.append(ent.text)\n",
    "        new_s = new_s[:ent.start_char] + \" \"*len(ent.text) + new_s[ent.end_char:]\n",
    "\n",
    "    new_s = re.sub(\"\\s+\", \" \", new_s)\n",
    "    \n",
    "    if len(NEs)==0:\n",
    "        return None, new_s\n",
    "    return NEs, new_s\n"
   ]
  },
  {
   "cell_type": "code",
   "execution_count": 6,
   "id": "fabulous-fortune",
   "metadata": {},
   "outputs": [],
   "source": [
    "# Apply function\n",
    "df[[\"NEs\", \"Sentence_wo_NEs\"]] = df[\"Sentence\"].apply(lambda x: seperate_NEs_from_sent(x, nlp)).apply(pd.Series)"
   ]
  },
  {
   "cell_type": "code",
   "execution_count": 7,
   "id": "rubber-plate",
   "metadata": {},
   "outputs": [
    {
     "data": {
      "text/html": [
       "<div>\n",
       "<style scoped>\n",
       "    .dataframe tbody tr th:only-of-type {\n",
       "        vertical-align: middle;\n",
       "    }\n",
       "\n",
       "    .dataframe tbody tr th {\n",
       "        vertical-align: top;\n",
       "    }\n",
       "\n",
       "    .dataframe thead th {\n",
       "        text-align: right;\n",
       "    }\n",
       "</style>\n",
       "<table border=\"1\" class=\"dataframe\">\n",
       "  <thead>\n",
       "    <tr style=\"text-align: right;\">\n",
       "      <th></th>\n",
       "      <th>FileName</th>\n",
       "      <th>Sentence</th>\n",
       "      <th>NEs</th>\n",
       "      <th>Sentence_wo_NEs</th>\n",
       "    </tr>\n",
       "  </thead>\n",
       "  <tbody>\n",
       "    <tr>\n",
       "      <th>0</th>\n",
       "      <td>doc1.txt</td>\n",
       "      <td>Let me begin by saying thanks to all you who'v...</td>\n",
       "      <td>[today]</td>\n",
       "      <td>Let me begin by saying thanks to all you who'v...</td>\n",
       "    </tr>\n",
       "    <tr>\n",
       "      <th>1</th>\n",
       "      <td>doc1.txt</td>\n",
       "      <td>We all made this journey for a reason.</td>\n",
       "      <td>None</td>\n",
       "      <td>We all made this journey for a reason.</td>\n",
       "    </tr>\n",
       "    <tr>\n",
       "      <th>2</th>\n",
       "      <td>doc1.txt</td>\n",
       "      <td>It's humbling, but in my heart I know you didn...</td>\n",
       "      <td>None</td>\n",
       "      <td>It's humbling, but in my heart I know you didn...</td>\n",
       "    </tr>\n",
       "    <tr>\n",
       "      <th>3</th>\n",
       "      <td>doc1.txt</td>\n",
       "      <td>In the face of war, you believe there can be p...</td>\n",
       "      <td>None</td>\n",
       "      <td>In the face of war, you believe there can be p...</td>\n",
       "    </tr>\n",
       "    <tr>\n",
       "      <th>4</th>\n",
       "      <td>doc1.txt</td>\n",
       "      <td>In the face of despair, you believe there can ...</td>\n",
       "      <td>None</td>\n",
       "      <td>In the face of despair, you believe there can ...</td>\n",
       "    </tr>\n",
       "  </tbody>\n",
       "</table>\n",
       "</div>"
      ],
      "text/plain": [
       "   FileName                                           Sentence      NEs  \\\n",
       "0  doc1.txt  Let me begin by saying thanks to all you who'v...  [today]   \n",
       "1  doc1.txt             We all made this journey for a reason.     None   \n",
       "2  doc1.txt  It's humbling, but in my heart I know you didn...     None   \n",
       "3  doc1.txt  In the face of war, you believe there can be p...     None   \n",
       "4  doc1.txt  In the face of despair, you believe there can ...     None   \n",
       "\n",
       "                                     Sentence_wo_NEs  \n",
       "0  Let me begin by saying thanks to all you who'v...  \n",
       "1             We all made this journey for a reason.  \n",
       "2  It's humbling, but in my heart I know you didn...  \n",
       "3  In the face of war, you believe there can be p...  \n",
       "4  In the face of despair, you believe there can ...  "
      ]
     },
     "execution_count": 7,
     "metadata": {},
     "output_type": "execute_result"
    }
   ],
   "source": [
    "df.head()"
   ]
  },
  {
   "cell_type": "markdown",
   "id": "hidden-insider",
   "metadata": {},
   "source": [
    "### Stage 3: Count Named entities"
   ]
  },
  {
   "cell_type": "code",
   "execution_count": 8,
   "id": "acquired-effects",
   "metadata": {},
   "outputs": [],
   "source": [
    "# Get list of Named entities\n",
    "NEs = []\n",
    "\n",
    "for ne in df.NEs.tolist():\n",
    "    if str(ne) != 'None':\n",
    "        NEs.extend(ne)"
   ]
  },
  {
   "cell_type": "code",
   "execution_count": 9,
   "id": "matched-provision",
   "metadata": {},
   "outputs": [],
   "source": [
    "# Get count of NEs\n",
    "ne2freq = Counter(NEs).most_common()"
   ]
  },
  {
   "cell_type": "code",
   "execution_count": 34,
   "id": "gross-gather",
   "metadata": {},
   "outputs": [
    {
     "data": {
      "image/png": "[encoded data removed]",
      "text/plain": [
       "<Figure size 1296x2160 with 1 Axes>"
      ]
     },
     "metadata": {
      "needs_background": "light"
     },
     "output_type": "display_data"
    }
   ],
   "source": [
    "# Get top N common tokens\n",
    "top = 60\n",
    "ne2freq = ne2freq[:top]\n",
    "\n",
    "# Sort\n",
    "ne2freq = sorted(ne2freq, key=lambda x: x[1], reverse=False)\n",
    "\n",
    "#\n",
    "tokens_ = [t for t,c in ne2freq]\n",
    "counts_ = [c for t,c in ne2freq]\n",
    "\n",
    "# 6.2\n",
    "# Plot bar chart\n",
    "y = range(len(tokens_))\n",
    "plt.figure(figsize=(18,30))           # option to configure chrat size, this line should come first\n",
    "plt.barh(y, counts_)\n",
    "plt.yticks(y, tokens_)  # option to rotate bar names\n",
    "\n",
    "# Put values to bar tops\n",
    "for ix, v in enumerate(counts_):\n",
    "    plt.text(v, ix, str(v))\n",
    "    \n",
    "plt.show()"
   ]
  },
  {
   "cell_type": "code",
   "execution_count": null,
   "id": "peaceful-inquiry",
   "metadata": {},
   "outputs": [],
   "source": []
  }
 ],
 "metadata": {
  "kernelspec": {
   "display_name": "Python 3",
   "language": "python",
   "name": "python3"
  },
  "language_info": {
   "codemirror_mode": {
    "name": "ipython",
    "version": 3
   },
   "file_extension": ".py",
   "mimetype": "text/x-python",
   "name": "python",
   "nbconvert_exporter": "python",
   "pygments_lexer": "ipython3",
   "version": "3.9.1"
  }
 },
 "nbformat": 4,
 "nbformat_minor": 5
}
